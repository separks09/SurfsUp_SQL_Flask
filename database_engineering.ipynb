{
 "cells": [
  {
   "cell_type": "code",
   "execution_count": 1,
   "metadata": {},
   "outputs": [],
   "source": [
    "import csv\n",
    "import pandas\n",
    "import sqlalchemy as sql\n",
    "import pandas as pd\n",
    "import sqlite3\n",
    "import numpy as np"
   ]
  },
  {
   "cell_type": "code",
   "execution_count": 2,
   "metadata": {},
   "outputs": [],
   "source": [
    "#Read in csv files\n",
    "measure_pd = pd.read_csv(\"clean_hawaii_measurements.csv\")\n",
    "station_pd = pd.read_csv(\"hawaii_stations.csv\")"
   ]
  },
  {
   "cell_type": "code",
   "execution_count": 3,
   "metadata": {},
   "outputs": [
    {
     "data": {
      "text/plain": [
       "18103"
      ]
     },
     "execution_count": 3,
     "metadata": {},
     "output_type": "execute_result"
    }
   ],
   "source": [
    "#Save for testing purposes\n",
    "len(measure_pd.index)"
   ]
  },
  {
   "cell_type": "code",
   "execution_count": 4,
   "metadata": {},
   "outputs": [
    {
     "data": {
      "text/plain": [
       "9"
      ]
     },
     "execution_count": 4,
     "metadata": {},
     "output_type": "execute_result"
    }
   ],
   "source": [
    "#Save for testing purposes\n",
    "len(station_pd.index)"
   ]
  },
  {
   "cell_type": "code",
   "execution_count": 5,
   "metadata": {},
   "outputs": [
    {
     "data": {
      "text/plain": [
       "station     object\n",
       "date        object\n",
       "prcp       float64\n",
       "tobs         int64\n",
       "dtype: object"
      ]
     },
     "execution_count": 5,
     "metadata": {},
     "output_type": "execute_result"
    }
   ],
   "source": [
    "#SQLite doesn't like int64 or int32 or int8.  Decided to use 'Float' and deal with it in pandas later, as needed\n",
    "measure_pd.dtypes"
   ]
  },
  {
   "cell_type": "code",
   "execution_count": 6,
   "metadata": {},
   "outputs": [],
   "source": [
    "#Create SQLite database\n",
    "conn = sqlite3.connect(\"hawaii.sqlite\")"
   ]
  },
  {
   "cell_type": "code",
   "execution_count": 7,
   "metadata": {},
   "outputs": [],
   "source": [
    "# Import SQL Alchemy\n",
    "from sqlalchemy import create_engine\n",
    "\n",
    "# Import and establish Base for which classes will be constructed \n",
    "from sqlalchemy.ext.declarative import declarative_base\n",
    "Base = declarative_base()\n",
    "\n",
    "# Import modules to declare columns and column data types\n",
    "from sqlalchemy import Column, Integer, String, Float\n",
    "\n",
    "# Create Station and Measurement classes\n",
    "# ----------------------------------\n",
    "class Station(Base):\n",
    "    __tablename__ = 'stations'\n",
    "    id = Column(Integer, primary_key=True)\n",
    "    station = Column(String(255))\n",
    "    name = Column(String(255))\n",
    "    latitude = Column(Float)\n",
    "    longitude = Column(Float)\n",
    "    elevation = Column(Float)\n",
    "\n",
    "class Measurement(Base):\n",
    "    __tablename__ = 'measurements'\n",
    "    id = Column(Integer, primary_key=True)\n",
    "    station = Column(String(255))\n",
    "    date = Column(String(255))\n",
    "    prcp = Column(Float)\n",
    "    tobs = Column(Float)\n",
    "\n",
    "# Create Database Connection\n",
    "# ----------------------------------\n",
    "# Establish Connection to SQLite\n",
    "engine = create_engine(\"sqlite:///hawaii.sqlite\")\n",
    "conn2 = engine.connect()\n",
    "# Create both the Station and Measurement tables within the database\n",
    "Base.metadata.create_all(conn2)"
   ]
  },
  {
   "cell_type": "code",
   "execution_count": 8,
   "metadata": {},
   "outputs": [],
   "source": [
    "# To push the objects made and query the server we use a Session object\n",
    "from sqlalchemy.orm import Session\n",
    "session = Session(bind=engine)\n",
    "\n",
    "# Create specific instances of the Station class\n",
    "# ----------------------------------\n",
    "# Create new stations from values in hawaii_stations.csv\n",
    "for x in range(len(station_pd)):\n",
    "    station = Station(\n",
    "        id = x,\n",
    "        station = station_pd.iloc[x][\"station\"],\n",
    "        name = station_pd.iloc[x][\"name\"],\n",
    "        latitude = station_pd.iloc[x][\"latitude\"],\n",
    "        longitude = station_pd.iloc[x][\"longitude\"],\n",
    "        elevation = station_pd.iloc[x][\"elevation\"])\n",
    "    # Add station(x) to the current session\n",
    "    session.add(station)\n",
    "    # Commit object to the database\n",
    "    session.commit()\n",
    "    \n",
    "# Create specific instances of the Measurement class\n",
    "# ----------------------------------\n",
    "# Create new stations from values in clean_hawaii_measurements.csv\n",
    "for x in range(len(measure_pd)):\n",
    "    measurement = Measurement(\n",
    "        id = x,\n",
    "        station = measure_pd.iloc[x][\"station\"],\n",
    "        date = measure_pd.iloc[x][\"date\"],\n",
    "        prcp = measure_pd.iloc[x][\"prcp\"],\n",
    "        tobs = measure_pd.iloc[x][\"tobs\"])\n",
    "    # Add measurement(x) to the current session\n",
    "    session.add(measurement)\n",
    "    # Commit object to the database\n",
    "    session.commit()"
   ]
  },
  {
   "cell_type": "code",
   "execution_count": 9,
   "metadata": {},
   "outputs": [
    {
     "name": "stdout",
     "output_type": "stream",
     "text": [
      "9\n"
     ]
    }
   ],
   "source": [
    "# Query the database, see if we got all the values from the csv\n",
    "station_list = session.query(Station)\n",
    "counter_s = 0\n",
    "for station in station_list:\n",
    "    counter_s = counter_s + 1\n",
    "print(counter_s)"
   ]
  },
  {
   "cell_type": "code",
   "execution_count": 10,
   "metadata": {},
   "outputs": [
    {
     "name": "stdout",
     "output_type": "stream",
     "text": [
      "18103\n"
     ]
    }
   ],
   "source": [
    "# Query the database, see if we got all the values from the csv\n",
    "measurement_list = session.query(Measurement)\n",
    "counter_m = 0\n",
    "for measurement in measurement_list:\n",
    "    counter_m = counter_m + 1\n",
    "print(counter_m)"
   ]
  }
 ],
 "metadata": {
  "kernelspec": {
   "display_name": "Python 3",
   "language": "python",
   "name": "python3"
  },
  "language_info": {
   "codemirror_mode": {
    "name": "ipython",
    "version": 3
   },
   "file_extension": ".py",
   "mimetype": "text/x-python",
   "name": "python",
   "nbconvert_exporter": "python",
   "pygments_lexer": "ipython3",
   "version": "3.6.4"
  }
 },
 "nbformat": 4,
 "nbformat_minor": 2
}
